{
 "cells": [
  {
   "cell_type": "code",
   "execution_count": 2,
   "metadata": {},
   "outputs": [],
   "source": [
    "from app import app\n",
    "from app.models import Admin, Transaksi, Transaksi_menu"
   ]
  },
  {
   "cell_type": "code",
   "execution_count": 3,
   "metadata": {},
   "outputs": [],
   "source": [
    "app.app_context().push()"
   ]
  },
  {
   "cell_type": "code",
   "execution_count": 12,
   "metadata": {},
   "outputs": [
    {
     "name": "stdout",
     "output_type": "stream",
     "text": [
      "Id transaksi: 1\n",
      "Date transaksi: 2024-11-07 11:59:42.251170\n",
      "Status transaksi: Diproses\n",
      "\n",
      "Id menu: 1\n",
      "Jumlah menu: 2\n",
      "Pesanan: <Coffe 3>\n",
      "Nama pesanan: ice kopi susu\n",
      "Harga pesanan: 15000\n",
      "Total harga: 30000\n",
      "\n",
      "Id menu: 2\n",
      "Jumlah menu: 3\n",
      "Pesanan: <Coffe 5>\n",
      "Nama pesanan: ice teh\n",
      "Harga pesanan: 7000\n",
      "Total harga: 21000\n",
      "\n"
     ]
    }
   ],
   "source": [
    "transaksi = Transaksi.query.filter_by(id_user=1, status=\"Diproses\")\n",
    "data = {}\n",
    "for trx in transaksi:\n",
    "    print(f\"Id transaksi: {trx.id}\")\n",
    "    print(f\"Date transaksi: {trx.date}\")\n",
    "    print(f\"Status transaksi: {trx.status}\\n\")\n",
    "    for menu in trx.menu():\n",
    "        print(f\"Id menu: {menu.id}\")\n",
    "        print(f\"Jumlah menu: {menu.jumlah}\")\n",
    "        pesanan = menu.pesanan()\n",
    "        print(f\"Pesanan: {pesanan}\")\n",
    "        print(f\"Nama pesanan: {pesanan.nama}\")\n",
    "        print(f\"Harga pesanan: {pesanan.harga}\")\n",
    "        print(f\"Total harga: {menu.jumlah * pesanan.harga}\\n\")\n",
    "        \n",
    "        "
   ]
  },
  {
   "cell_type": "code",
   "execution_count": 13,
   "metadata": {},
   "outputs": [
    {
     "name": "stdout",
     "output_type": "stream",
     "text": [
      "Id transaksi: 1\n",
      "Date transaksi: 2024-11-07 11:59:42.251170\n",
      "Status transaksi: Diproses\n",
      "\n",
      "Id menu: 1\n",
      "Jumlah menu: 2\n",
      "Pesanan: <Coffe 3>\n",
      "Nama pesanan: ice kopi susu\n",
      "Harga pesanan: 15000\n",
      "Total harga: 30000\n",
      "\n",
      "Id menu: 2\n",
      "Jumlah menu: 3\n",
      "Pesanan: <Coffe 5>\n",
      "Nama pesanan: ice teh\n",
      "Harga pesanan: 7000\n",
      "Total harga: 21000\n",
      "\n"
     ]
    }
   ],
   "source": [
    "transaksi = Transaksi.query.filter_by(id_user=1, status=\"Diproses\")\n",
    "data = {}\n",
    "for trx in transaksi:\n",
    "    data['id'] = trx.id\n",
    "    print(f\"Id transaksi: {trx.id}\")\n",
    "    data['date'] = trx.date\n",
    "    print(f\"Date transaksi: {trx.date}\")\n",
    "    data['status'] = trx.status\n",
    "    print(f\"Status transaksi: {trx.status}\\n\")\n",
    "    data[\"menu\"] = {}\n",
    "    for menu in trx.menu():\n",
    "        data['menu'][menu.id] = {}\n",
    "        print(f\"Id menu: {menu.id}\")\n",
    "        data['menu'][menu.id]['jumlah'] = menu.jumlah\n",
    "        print(f\"Jumlah menu: {menu.jumlah}\")\n",
    "        pesanan = menu.pesanan()\n",
    "        data['menu'][menu.id]['nama'] = pesanan.nama\n",
    "        print(f\"Pesanan: {pesanan}\")\n",
    "        data['menu'][menu.id]['harga'] = pesanan.harga\n",
    "        data['menu'][menu.id]['total'] = menu.jumlah * pesanan.harga\n",
    "        \n",
    "        \n",
    "        print(f\"Nama pesanan: {pesanan.nama}\")\n",
    "        print(f\"Harga pesanan: {pesanan.harga}\")\n",
    "        print(f\"Total harga: {menu.jumlah * pesanan.harga}\\n\")\n",
    "        \n",
    "        "
   ]
  },
  {
   "cell_type": "code",
   "execution_count": 14,
   "metadata": {},
   "outputs": [
    {
     "data": {
      "text/plain": [
       "{'id': 1,\n",
       " 'date': datetime.datetime(2024, 11, 7, 11, 59, 42, 251170),\n",
       " 'status': 'Diproses',\n",
       " 'menu': {1: {'jumlah': 2,\n",
       "   'nama': 'ice kopi susu',\n",
       "   'harga': 15000,\n",
       "   'total': 30000},\n",
       "  2: {'jumlah': 3, 'nama': 'ice teh', 'harga': 7000, 'total': 21000}}}"
      ]
     },
     "execution_count": 14,
     "metadata": {},
     "output_type": "execute_result"
    }
   ],
   "source": [
    "data"
   ]
  },
  {
   "cell_type": "code",
   "execution_count": null,
   "metadata": {},
   "outputs": [],
   "source": [
    "{\n",
    "    'id': 1,\n",
    "    'date': datetime.datetime(2024, 11, 7, 11, 59, 42, 251170),\n",
    "    'status': 'Diproses',\n",
    "    'menu': {\n",
    "        1: {\n",
    "            'jumlah': 2, \n",
    "            'nama': 'ice kopi susu', \n",
    "            'harga': 15000, \n",
    "            'total': 30000\n",
    "        },\n",
    "        2: {\n",
    "            'jumlah': 3, \n",
    "            'nama': 'ice teh', \n",
    "            'harga': 7000, \n",
    "            'total': 21000\n",
    "        }\n",
    "    }\n",
    "}"
   ]
  },
  {
   "cell_type": "code",
   "execution_count": 18,
   "metadata": {},
   "outputs": [
    {
     "name": "stdout",
     "output_type": "stream",
     "text": [
      "1:\n",
      "\tdate: 2024-11-07 11:59:42.251170\n",
      "\tstatus: Diproses\n",
      "\tmenu:\n",
      "\t\t\tjumlah: 2\n",
      "\t\t\tnama: ice kopi susu\n",
      "\t\t\tharga: 15000\n",
      "\t\t\ttotal: 30000\n",
      "\tmenu:\n",
      "\t\t\tjumlah: 3\n",
      "\t\t\tnama: ice teh\n",
      "\t\t\tharga: 7000\n",
      "\t\t\ttotal: 21000\n",
      "2:\n",
      "\tdate: 2024-11-07 18:16:05.609773\n",
      "\tstatus: Diproses\n",
      "\tmenu:\n",
      "\t\t\tjumlah: 3\n",
      "\t\t\tnama: ice teh\n",
      "\t\t\tharga: 7000\n",
      "\t\t\ttotal: 21000\n",
      "\tmenu:\n",
      "\t\t\tjumlah: 1\n",
      "\t\t\tnama: ice teh susu\n",
      "\t\t\tharga: 10000\n",
      "\t\t\ttotal: 10000\n",
      "total:\n",
      "Total: 82000\n"
     ]
    }
   ],
   "source": [
    "from flask import jsonify\n",
    "transaksi = Transaksi.query.filter_by(id_user=1, status=\"Diproses\")\n",
    "data = {}\n",
    "total = 0\n",
    "for trx in transaksi:\n",
    "    data[trx.id] = {}\n",
    "    data[trx.id]['date'] = trx.date\n",
    "    data[trx.id]['status'] = trx.status\n",
    "    data[trx.id][\"menu\"] = {}\n",
    "    for menu in trx.menu():\n",
    "        data[trx.id]['menu'][menu.id] = {}    \n",
    "        data[trx.id]['menu'][menu.id]['jumlah'] = menu.jumlah    \n",
    "        pesanan = menu.pesanan()\n",
    "        data[trx.id]['menu'][menu.id]['nama'] = pesanan.nama    \n",
    "        data[trx.id]['menu'][menu.id]['harga'] = pesanan.harga\n",
    "        data[trx.id]['menu'][menu.id]['total'] = menu.jumlah * pesanan.harga\n",
    "        total += menu.jumlah * pesanan.harga\n",
    "data['total']=total\n",
    "\n",
    "for isi in data:\n",
    "    print(isi, end=\":\\n\")\n",
    "    if isi != \"total\":\n",
    "        for isi2 in data[isi]:\n",
    "            if isi2 != \"menu\":\n",
    "                print(f\"\\t{isi2}: {data[isi][isi2]}\")\n",
    "            else:\n",
    "                for isi3 in data[isi][isi2]:\n",
    "                    print(f\"\\t{isi2}:\")\n",
    "                    for isi4 in data[isi][isi2][isi3]:\n",
    "                        print(f\"\\t\\t\\t{isi4}: {data[isi][isi2][isi3][isi4]}\")\n",
    "    else:\n",
    "        print(f\"Total: {data[isi]}\")"
   ]
  },
  {
   "cell_type": "code",
   "execution_count": 24,
   "metadata": {},
   "outputs": [
    {
     "data": {
      "text/plain": [
       "{1: {'date': datetime.datetime(2024, 11, 7, 11, 59, 42, 251170),\n",
       "  'status': 'Diproses',\n",
       "  'menu': {1: {'jumlah': 2,\n",
       "    'nama': 'ice kopi susu',\n",
       "    'harga': 15000,\n",
       "    'total': 30000},\n",
       "   2: {'jumlah': 3, 'nama': 'ice teh', 'harga': 7000, 'total': 21000}}},\n",
       " 2: {'date': datetime.datetime(2024, 11, 7, 18, 16, 5, 609773),\n",
       "  'status': 'Diproses',\n",
       "  'menu': {3: {'jumlah': 3, 'nama': 'ice teh', 'harga': 7000, 'total': 21000},\n",
       "   4: {'jumlah': 1, 'nama': 'ice teh susu', 'harga': 10000, 'total': 10000}}},\n",
       " 'total': 82000}"
      ]
     },
     "execution_count": 24,
     "metadata": {},
     "output_type": "execute_result"
    }
   ],
   "source": [
    "data"
   ]
  },
  {
   "cell_type": "code",
   "execution_count": 31,
   "metadata": {},
   "outputs": [
    {
     "name": "stdout",
     "output_type": "stream",
     "text": [
      "1\n",
      "{'jumlah': 2, 'nama': 'ice kopi susu', 'harga': 15000, 'total': 30000}\n",
      "{'jumlah': 3, 'nama': 'ice teh', 'harga': 7000, 'total': 21000}\n",
      "2\n",
      "{'jumlah': 3, 'nama': 'ice teh', 'harga': 7000, 'total': 21000}\n",
      "{'jumlah': 1, 'nama': 'ice teh susu', 'harga': 10000, 'total': 10000}\n",
      "total\n"
     ]
    }
   ],
   "source": [
    "for isi in data:\n",
    "    print(isi)\n",
    "    if isi == \"total\":\n",
    "        continue\n",
    "    for isi2 in data[isi]['menu']:\n",
    "        print(data[isi]['menu'][isi2])"
   ]
  },
  {
   "cell_type": "code",
   "execution_count": null,
   "metadata": {},
   "outputs": [],
   "source": []
  }
 ],
 "metadata": {
  "kernelspec": {
   "display_name": "base",
   "language": "python",
   "name": "python3"
  },
  "language_info": {
   "codemirror_mode": {
    "name": "ipython",
    "version": 3
   },
   "file_extension": ".py",
   "mimetype": "text/x-python",
   "name": "python",
   "nbconvert_exporter": "python",
   "pygments_lexer": "ipython3",
   "version": "3.12.4"
  }
 },
 "nbformat": 4,
 "nbformat_minor": 2
}
